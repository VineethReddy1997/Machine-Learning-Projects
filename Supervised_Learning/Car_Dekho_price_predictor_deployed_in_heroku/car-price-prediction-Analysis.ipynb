{
 "cells": [
  {
   "cell_type": "code",
   "execution_count": 1,
   "metadata": {
    "_cell_guid": "b1076dfc-b9ad-4769-8c92-a6c4dae69d19",
    "_uuid": "8f2839f25d086af736a60e9eeb907d3b93b6e0e5",
    "execution": {
     "iopub.execute_input": "2021-06-08T12:05:52.897750Z",
     "iopub.status.busy": "2021-06-08T12:05:52.897332Z",
     "iopub.status.idle": "2021-06-08T12:05:52.915976Z",
     "shell.execute_reply": "2021-06-08T12:05:52.914962Z",
     "shell.execute_reply.started": "2021-06-08T12:05:52.897664Z"
    }
   },
   "outputs": [],
   "source": [
    "# This Python 3 environment comes with many helpful analytics libraries installed\n",
    "# It is defined by the kaggle/python Docker image: https://github.com/kaggle/docker-python\n",
    "# For example, here's several helpful packages to load\n",
    "\n",
    "import numpy as np # linear algebra\n",
    "import pandas as pd # data processing, CSV file I/O (e.g. pd.read_csv)\n",
    "\n",
    "# Input data files are available in the read-only \"../input/\" directory\n",
    "# For example, running this (by clicking run or pressing Shift+Enter) will list all files under the input directory\n",
    "\n",
    "import os\n",
    "for dirname, _, filenames in os.walk('/kaggle/input'):\n",
    "    for filename in filenames:\n",
    "        print(os.path.join(dirname, filename))\n",
    "\n",
    "# You can write up to 20GB to the current directory (/kaggle/working/) that gets preserved as output when you create a version using \"Save & Run All\" \n",
    "# You can also write temporary files to /kaggle/temp/, but they won't be saved outside of the current session"
   ]
  },
  {
   "cell_type": "code",
   "execution_count": 2,
   "metadata": {
    "execution": {
     "iopub.execute_input": "2021-06-08T12:05:52.918290Z",
     "iopub.status.busy": "2021-06-08T12:05:52.917845Z",
     "iopub.status.idle": "2021-06-08T12:05:52.972733Z",
     "shell.execute_reply": "2021-06-08T12:05:52.971927Z",
     "shell.execute_reply.started": "2021-06-08T12:05:52.918245Z"
    }
   },
   "outputs": [],
   "source": [
    "df = pd.read_csv('Car_data.csv')"
   ]
  },
  {
   "cell_type": "code",
   "execution_count": 3,
   "metadata": {
    "execution": {
     "iopub.execute_input": "2021-06-08T12:05:52.975086Z",
     "iopub.status.busy": "2021-06-08T12:05:52.974692Z",
     "iopub.status.idle": "2021-06-08T12:05:53.012226Z",
     "shell.execute_reply": "2021-06-08T12:05:53.011218Z",
     "shell.execute_reply.started": "2021-06-08T12:05:52.975046Z"
    }
   },
   "outputs": [
    {
     "data": {
      "text/html": [
       "<div>\n",
       "<style scoped>\n",
       "    .dataframe tbody tr th:only-of-type {\n",
       "        vertical-align: middle;\n",
       "    }\n",
       "\n",
       "    .dataframe tbody tr th {\n",
       "        vertical-align: top;\n",
       "    }\n",
       "\n",
       "    .dataframe thead th {\n",
       "        text-align: right;\n",
       "    }\n",
       "</style>\n",
       "<table border=\"1\" class=\"dataframe\">\n",
       "  <thead>\n",
       "    <tr style=\"text-align: right;\">\n",
       "      <th></th>\n",
       "      <th>name</th>\n",
       "      <th>year</th>\n",
       "      <th>selling_price</th>\n",
       "      <th>km_driven</th>\n",
       "      <th>fuel</th>\n",
       "      <th>seller_type</th>\n",
       "      <th>transmission</th>\n",
       "      <th>owner</th>\n",
       "      <th>mileage</th>\n",
       "      <th>engine</th>\n",
       "      <th>max_power</th>\n",
       "      <th>torque</th>\n",
       "      <th>seats</th>\n",
       "    </tr>\n",
       "  </thead>\n",
       "  <tbody>\n",
       "    <tr>\n",
       "      <th>0</th>\n",
       "      <td>Maruti Swift Dzire VDI</td>\n",
       "      <td>2014</td>\n",
       "      <td>450000</td>\n",
       "      <td>145500</td>\n",
       "      <td>Diesel</td>\n",
       "      <td>Individual</td>\n",
       "      <td>Manual</td>\n",
       "      <td>First Owner</td>\n",
       "      <td>23.4 kmpl</td>\n",
       "      <td>1248 CC</td>\n",
       "      <td>74 bhp</td>\n",
       "      <td>190Nm@ 2000rpm</td>\n",
       "      <td>5.0</td>\n",
       "    </tr>\n",
       "    <tr>\n",
       "      <th>1</th>\n",
       "      <td>Skoda Rapid 1.5 TDI Ambition</td>\n",
       "      <td>2014</td>\n",
       "      <td>370000</td>\n",
       "      <td>120000</td>\n",
       "      <td>Diesel</td>\n",
       "      <td>Individual</td>\n",
       "      <td>Manual</td>\n",
       "      <td>Second Owner</td>\n",
       "      <td>21.14 kmpl</td>\n",
       "      <td>1498 CC</td>\n",
       "      <td>103.52 bhp</td>\n",
       "      <td>250Nm@ 1500-2500rpm</td>\n",
       "      <td>5.0</td>\n",
       "    </tr>\n",
       "    <tr>\n",
       "      <th>2</th>\n",
       "      <td>Honda City 2017-2020 EXi</td>\n",
       "      <td>2006</td>\n",
       "      <td>158000</td>\n",
       "      <td>140000</td>\n",
       "      <td>Petrol</td>\n",
       "      <td>Individual</td>\n",
       "      <td>Manual</td>\n",
       "      <td>Third Owner</td>\n",
       "      <td>17.7 kmpl</td>\n",
       "      <td>1497 CC</td>\n",
       "      <td>78 bhp</td>\n",
       "      <td>12.7@ 2,700(kgm@ rpm)</td>\n",
       "      <td>5.0</td>\n",
       "    </tr>\n",
       "    <tr>\n",
       "      <th>3</th>\n",
       "      <td>Hyundai i20 Sportz Diesel</td>\n",
       "      <td>2010</td>\n",
       "      <td>225000</td>\n",
       "      <td>127000</td>\n",
       "      <td>Diesel</td>\n",
       "      <td>Individual</td>\n",
       "      <td>Manual</td>\n",
       "      <td>First Owner</td>\n",
       "      <td>23.0 kmpl</td>\n",
       "      <td>1396 CC</td>\n",
       "      <td>90 bhp</td>\n",
       "      <td>22.4 kgm at 1750-2750rpm</td>\n",
       "      <td>5.0</td>\n",
       "    </tr>\n",
       "    <tr>\n",
       "      <th>4</th>\n",
       "      <td>Maruti Swift VXI BSIII</td>\n",
       "      <td>2007</td>\n",
       "      <td>130000</td>\n",
       "      <td>120000</td>\n",
       "      <td>Petrol</td>\n",
       "      <td>Individual</td>\n",
       "      <td>Manual</td>\n",
       "      <td>First Owner</td>\n",
       "      <td>16.1 kmpl</td>\n",
       "      <td>1298 CC</td>\n",
       "      <td>88.2 bhp</td>\n",
       "      <td>11.5@ 4,500(kgm@ rpm)</td>\n",
       "      <td>5.0</td>\n",
       "    </tr>\n",
       "  </tbody>\n",
       "</table>\n",
       "</div>"
      ],
      "text/plain": [
       "                           name  year  selling_price  km_driven    fuel  \\\n",
       "0        Maruti Swift Dzire VDI  2014         450000     145500  Diesel   \n",
       "1  Skoda Rapid 1.5 TDI Ambition  2014         370000     120000  Diesel   \n",
       "2      Honda City 2017-2020 EXi  2006         158000     140000  Petrol   \n",
       "3     Hyundai i20 Sportz Diesel  2010         225000     127000  Diesel   \n",
       "4        Maruti Swift VXI BSIII  2007         130000     120000  Petrol   \n",
       "\n",
       "  seller_type transmission         owner     mileage   engine   max_power  \\\n",
       "0  Individual       Manual   First Owner   23.4 kmpl  1248 CC      74 bhp   \n",
       "1  Individual       Manual  Second Owner  21.14 kmpl  1498 CC  103.52 bhp   \n",
       "2  Individual       Manual   Third Owner   17.7 kmpl  1497 CC      78 bhp   \n",
       "3  Individual       Manual   First Owner   23.0 kmpl  1396 CC      90 bhp   \n",
       "4  Individual       Manual   First Owner   16.1 kmpl  1298 CC    88.2 bhp   \n",
       "\n",
       "                     torque  seats  \n",
       "0            190Nm@ 2000rpm    5.0  \n",
       "1       250Nm@ 1500-2500rpm    5.0  \n",
       "2     12.7@ 2,700(kgm@ rpm)    5.0  \n",
       "3  22.4 kgm at 1750-2750rpm    5.0  \n",
       "4     11.5@ 4,500(kgm@ rpm)    5.0  "
      ]
     },
     "execution_count": 3,
     "metadata": {},
     "output_type": "execute_result"
    }
   ],
   "source": [
    "df.head()"
   ]
  },
  {
   "cell_type": "code",
   "execution_count": 4,
   "metadata": {
    "execution": {
     "iopub.execute_input": "2021-06-08T12:05:53.014723Z",
     "iopub.status.busy": "2021-06-08T12:05:53.014291Z",
     "iopub.status.idle": "2021-06-08T12:05:53.020854Z",
     "shell.execute_reply": "2021-06-08T12:05:53.019793Z",
     "shell.execute_reply.started": "2021-06-08T12:05:53.014680Z"
    }
   },
   "outputs": [
    {
     "data": {
      "text/plain": [
       "(8128, 13)"
      ]
     },
     "execution_count": 4,
     "metadata": {},
     "output_type": "execute_result"
    }
   ],
   "source": [
    "# shape of data\n",
    "df.shape"
   ]
  },
  {
   "cell_type": "code",
   "execution_count": 5,
   "metadata": {
    "execution": {
     "iopub.execute_input": "2021-06-08T12:05:53.023066Z",
     "iopub.status.busy": "2021-06-08T12:05:53.022592Z",
     "iopub.status.idle": "2021-06-08T12:05:53.043976Z",
     "shell.execute_reply": "2021-06-08T12:05:53.042681Z",
     "shell.execute_reply.started": "2021-06-08T12:05:53.023020Z"
    }
   },
   "outputs": [
    {
     "data": {
      "text/plain": [
       "name               0\n",
       "year               0\n",
       "selling_price      0\n",
       "km_driven          0\n",
       "fuel               0\n",
       "seller_type        0\n",
       "transmission       0\n",
       "owner              0\n",
       "mileage          221\n",
       "engine           221\n",
       "max_power        215\n",
       "torque           222\n",
       "seats            221\n",
       "dtype: int64"
      ]
     },
     "execution_count": 5,
     "metadata": {},
     "output_type": "execute_result"
    }
   ],
   "source": [
    "# missing values\n",
    "df.isnull().sum()"
   ]
  },
  {
   "cell_type": "code",
   "execution_count": 6,
   "metadata": {
    "execution": {
     "iopub.execute_input": "2021-06-08T12:05:53.045198Z",
     "iopub.status.busy": "2021-06-08T12:05:53.044941Z",
     "iopub.status.idle": "2021-06-08T12:05:53.075745Z",
     "shell.execute_reply": "2021-06-08T12:05:53.074653Z",
     "shell.execute_reply.started": "2021-06-08T12:05:53.045172Z"
    }
   },
   "outputs": [
    {
     "name": "stdout",
     "output_type": "stream",
     "text": [
      "<class 'pandas.core.frame.DataFrame'>\n",
      "RangeIndex: 8128 entries, 0 to 8127\n",
      "Data columns (total 13 columns):\n",
      " #   Column         Non-Null Count  Dtype  \n",
      "---  ------         --------------  -----  \n",
      " 0   name           8128 non-null   object \n",
      " 1   year           8128 non-null   int64  \n",
      " 2   selling_price  8128 non-null   int64  \n",
      " 3   km_driven      8128 non-null   int64  \n",
      " 4   fuel           8128 non-null   object \n",
      " 5   seller_type    8128 non-null   object \n",
      " 6   transmission   8128 non-null   object \n",
      " 7   owner          8128 non-null   object \n",
      " 8   mileage        7907 non-null   object \n",
      " 9   engine         7907 non-null   object \n",
      " 10  max_power      7913 non-null   object \n",
      " 11  torque         7906 non-null   object \n",
      " 12  seats          7907 non-null   float64\n",
      "dtypes: float64(1), int64(3), object(9)\n",
      "memory usage: 825.6+ KB\n"
     ]
    }
   ],
   "source": [
    "# info\n",
    "df.info()"
   ]
  },
  {
   "cell_type": "code",
   "execution_count": 7,
   "metadata": {
    "execution": {
     "iopub.execute_input": "2021-06-08T12:05:53.078055Z",
     "iopub.status.busy": "2021-06-08T12:05:53.077583Z",
     "iopub.status.idle": "2021-06-08T12:05:53.097168Z",
     "shell.execute_reply": "2021-06-08T12:05:53.096523Z",
     "shell.execute_reply.started": "2021-06-08T12:05:53.078009Z"
    }
   },
   "outputs": [
    {
     "data": {
      "text/plain": [
       "1202"
      ]
     },
     "execution_count": 7,
     "metadata": {},
     "output_type": "execute_result"
    }
   ],
   "source": [
    "# duplicate data\n",
    "df.duplicated().sum()"
   ]
  },
  {
   "cell_type": "code",
   "execution_count": 8,
   "metadata": {
    "execution": {
     "iopub.execute_input": "2021-06-08T12:05:53.098830Z",
     "iopub.status.busy": "2021-06-08T12:05:53.098378Z",
     "iopub.status.idle": "2021-06-08T12:05:53.128707Z",
     "shell.execute_reply": "2021-06-08T12:05:53.127585Z",
     "shell.execute_reply.started": "2021-06-08T12:05:53.098789Z"
    }
   },
   "outputs": [
    {
     "data": {
      "text/html": [
       "<div>\n",
       "<style scoped>\n",
       "    .dataframe tbody tr th:only-of-type {\n",
       "        vertical-align: middle;\n",
       "    }\n",
       "\n",
       "    .dataframe tbody tr th {\n",
       "        vertical-align: top;\n",
       "    }\n",
       "\n",
       "    .dataframe thead th {\n",
       "        text-align: right;\n",
       "    }\n",
       "</style>\n",
       "<table border=\"1\" class=\"dataframe\">\n",
       "  <thead>\n",
       "    <tr style=\"text-align: right;\">\n",
       "      <th></th>\n",
       "      <th>year</th>\n",
       "      <th>selling_price</th>\n",
       "      <th>km_driven</th>\n",
       "      <th>seats</th>\n",
       "    </tr>\n",
       "  </thead>\n",
       "  <tbody>\n",
       "    <tr>\n",
       "      <th>count</th>\n",
       "      <td>8128.000000</td>\n",
       "      <td>8.128000e+03</td>\n",
       "      <td>8.128000e+03</td>\n",
       "      <td>7907.000000</td>\n",
       "    </tr>\n",
       "    <tr>\n",
       "      <th>mean</th>\n",
       "      <td>2013.804011</td>\n",
       "      <td>6.382718e+05</td>\n",
       "      <td>6.981951e+04</td>\n",
       "      <td>5.416719</td>\n",
       "    </tr>\n",
       "    <tr>\n",
       "      <th>std</th>\n",
       "      <td>4.044249</td>\n",
       "      <td>8.062534e+05</td>\n",
       "      <td>5.655055e+04</td>\n",
       "      <td>0.959588</td>\n",
       "    </tr>\n",
       "    <tr>\n",
       "      <th>min</th>\n",
       "      <td>1983.000000</td>\n",
       "      <td>2.999900e+04</td>\n",
       "      <td>1.000000e+00</td>\n",
       "      <td>2.000000</td>\n",
       "    </tr>\n",
       "    <tr>\n",
       "      <th>25%</th>\n",
       "      <td>2011.000000</td>\n",
       "      <td>2.549990e+05</td>\n",
       "      <td>3.500000e+04</td>\n",
       "      <td>5.000000</td>\n",
       "    </tr>\n",
       "    <tr>\n",
       "      <th>50%</th>\n",
       "      <td>2015.000000</td>\n",
       "      <td>4.500000e+05</td>\n",
       "      <td>6.000000e+04</td>\n",
       "      <td>5.000000</td>\n",
       "    </tr>\n",
       "    <tr>\n",
       "      <th>75%</th>\n",
       "      <td>2017.000000</td>\n",
       "      <td>6.750000e+05</td>\n",
       "      <td>9.800000e+04</td>\n",
       "      <td>5.000000</td>\n",
       "    </tr>\n",
       "    <tr>\n",
       "      <th>max</th>\n",
       "      <td>2020.000000</td>\n",
       "      <td>1.000000e+07</td>\n",
       "      <td>2.360457e+06</td>\n",
       "      <td>14.000000</td>\n",
       "    </tr>\n",
       "  </tbody>\n",
       "</table>\n",
       "</div>"
      ],
      "text/plain": [
       "              year  selling_price     km_driven        seats\n",
       "count  8128.000000   8.128000e+03  8.128000e+03  7907.000000\n",
       "mean   2013.804011   6.382718e+05  6.981951e+04     5.416719\n",
       "std       4.044249   8.062534e+05  5.655055e+04     0.959588\n",
       "min    1983.000000   2.999900e+04  1.000000e+00     2.000000\n",
       "25%    2011.000000   2.549990e+05  3.500000e+04     5.000000\n",
       "50%    2015.000000   4.500000e+05  6.000000e+04     5.000000\n",
       "75%    2017.000000   6.750000e+05  9.800000e+04     5.000000\n",
       "max    2020.000000   1.000000e+07  2.360457e+06    14.000000"
      ]
     },
     "execution_count": 8,
     "metadata": {},
     "output_type": "execute_result"
    }
   ],
   "source": [
    "# describe function\n",
    "df.describe()"
   ]
  },
  {
   "cell_type": "code",
   "execution_count": 9,
   "metadata": {
    "execution": {
     "iopub.execute_input": "2021-06-08T12:05:53.130059Z",
     "iopub.status.busy": "2021-06-08T12:05:53.129797Z",
     "iopub.status.idle": "2021-06-08T12:05:53.138966Z",
     "shell.execute_reply": "2021-06-08T12:05:53.137956Z",
     "shell.execute_reply.started": "2021-06-08T12:05:53.130034Z"
    }
   },
   "outputs": [
    {
     "data": {
      "text/plain": [
       "10000000.0"
      ]
     },
     "execution_count": 9,
     "metadata": {},
     "output_type": "execute_result"
    }
   ],
   "source": [
    "1.000000e+07"
   ]
  },
  {
   "cell_type": "markdown",
   "metadata": {
    "execution": {
     "iopub.execute_input": "2021-06-08T12:05:53.164178Z",
     "iopub.status.busy": "2021-06-08T12:05:53.163640Z",
     "iopub.status.idle": "2021-06-08T12:05:53.166961Z",
     "shell.execute_reply": "2021-06-08T12:05:53.166312Z",
     "shell.execute_reply.started": "2021-06-08T12:05:53.164136Z"
    }
   },
   "source": [
    "## Observation\n",
    "### 1. Missing values in some cols\n",
    "### 2. Seats is float should be int\n",
    "### 3. more than 1000 rows are duplicates\n",
    "### 4. Outliers in year,selling price,seats\n",
    "### 5. Torque,engine,mileage and max_power have unnecceary units\n"
   ]
  },
  {
   "cell_type": "code",
   "execution_count": 10,
   "metadata": {
    "execution": {
     "iopub.execute_input": "2021-06-08T12:05:53.168316Z",
     "iopub.status.busy": "2021-06-08T12:05:53.168008Z",
     "iopub.status.idle": "2021-06-08T12:05:53.204763Z",
     "shell.execute_reply": "2021-06-08T12:05:53.203499Z",
     "shell.execute_reply.started": "2021-06-08T12:05:53.168288Z"
    }
   },
   "outputs": [],
   "source": [
    "# drop any row with missing values\n",
    "df.dropna(inplace=True)"
   ]
  },
  {
   "cell_type": "code",
   "execution_count": 11,
   "metadata": {
    "execution": {
     "iopub.execute_input": "2021-06-08T12:05:53.207535Z",
     "iopub.status.busy": "2021-06-08T12:05:53.207101Z",
     "iopub.status.idle": "2021-06-08T12:05:53.214307Z",
     "shell.execute_reply": "2021-06-08T12:05:53.213151Z",
     "shell.execute_reply.started": "2021-06-08T12:05:53.207493Z"
    }
   },
   "outputs": [
    {
     "data": {
      "text/plain": [
       "(7906, 13)"
      ]
     },
     "execution_count": 11,
     "metadata": {},
     "output_type": "execute_result"
    }
   ],
   "source": [
    "df.shape"
   ]
  },
  {
   "cell_type": "code",
   "execution_count": 12,
   "metadata": {
    "execution": {
     "iopub.execute_input": "2021-06-08T12:05:53.215956Z",
     "iopub.status.busy": "2021-06-08T12:05:53.215566Z",
     "iopub.status.idle": "2021-06-08T12:05:53.234684Z",
     "shell.execute_reply": "2021-06-08T12:05:53.234019Z",
     "shell.execute_reply.started": "2021-06-08T12:05:53.215928Z"
    }
   },
   "outputs": [
    {
     "data": {
      "text/plain": [
       "name             0\n",
       "year             0\n",
       "selling_price    0\n",
       "km_driven        0\n",
       "fuel             0\n",
       "seller_type      0\n",
       "transmission     0\n",
       "owner            0\n",
       "mileage          0\n",
       "engine           0\n",
       "max_power        0\n",
       "torque           0\n",
       "seats            0\n",
       "dtype: int64"
      ]
     },
     "execution_count": 12,
     "metadata": {},
     "output_type": "execute_result"
    }
   ],
   "source": [
    "# no of dropped rows\n",
    "8128 - 7906\n",
    "df.isnull().sum()"
   ]
  },
  {
   "cell_type": "code",
   "execution_count": 13,
   "metadata": {
    "execution": {
     "iopub.execute_input": "2021-06-08T12:05:53.236027Z",
     "iopub.status.busy": "2021-06-08T12:05:53.235659Z",
     "iopub.status.idle": "2021-06-08T12:05:53.251088Z",
     "shell.execute_reply": "2021-06-08T12:05:53.250334Z",
     "shell.execute_reply.started": "2021-06-08T12:05:53.235999Z"
    }
   },
   "outputs": [],
   "source": [
    "# remove duplicate rows\n",
    "df = df.drop_duplicates(keep='first')"
   ]
  },
  {
   "cell_type": "code",
   "execution_count": 14,
   "metadata": {
    "execution": {
     "iopub.execute_input": "2021-06-08T12:05:53.252330Z",
     "iopub.status.busy": "2021-06-08T12:05:53.252034Z",
     "iopub.status.idle": "2021-06-08T12:05:53.257640Z",
     "shell.execute_reply": "2021-06-08T12:05:53.256723Z",
     "shell.execute_reply.started": "2021-06-08T12:05:53.252303Z"
    }
   },
   "outputs": [
    {
     "data": {
      "text/plain": [
       "(6717, 13)"
      ]
     },
     "execution_count": 14,
     "metadata": {},
     "output_type": "execute_result"
    }
   ],
   "source": [
    "df.shape"
   ]
  },
  {
   "cell_type": "code",
   "execution_count": 15,
   "metadata": {
    "execution": {
     "iopub.execute_input": "2021-06-08T12:05:53.259412Z",
     "iopub.status.busy": "2021-06-08T12:05:53.259079Z",
     "iopub.status.idle": "2021-06-08T12:05:53.282858Z",
     "shell.execute_reply": "2021-06-08T12:05:53.281710Z",
     "shell.execute_reply.started": "2021-06-08T12:05:53.259384Z"
    }
   },
   "outputs": [
    {
     "data": {
      "text/plain": [
       "0"
      ]
     },
     "execution_count": 15,
     "metadata": {},
     "output_type": "execute_result"
    }
   ],
   "source": [
    "df.duplicated().sum()"
   ]
  },
  {
   "cell_type": "code",
   "execution_count": 16,
   "metadata": {
    "execution": {
     "iopub.execute_input": "2021-06-08T12:05:53.284837Z",
     "iopub.status.busy": "2021-06-08T12:05:53.284428Z",
     "iopub.status.idle": "2021-06-08T12:05:53.290221Z",
     "shell.execute_reply": "2021-06-08T12:05:53.289215Z",
     "shell.execute_reply.started": "2021-06-08T12:05:53.284795Z"
    }
   },
   "outputs": [],
   "source": [
    "# change data type of seats col\n",
    "df['seats'] = df['seats'].astype('int32')"
   ]
  },
  {
   "cell_type": "code",
   "execution_count": 17,
   "metadata": {
    "execution": {
     "iopub.execute_input": "2021-06-08T12:05:53.294293Z",
     "iopub.status.busy": "2021-06-08T12:05:53.293724Z",
     "iopub.status.idle": "2021-06-08T12:05:53.320645Z",
     "shell.execute_reply": "2021-06-08T12:05:53.319534Z",
     "shell.execute_reply.started": "2021-06-08T12:05:53.294242Z"
    }
   },
   "outputs": [
    {
     "name": "stdout",
     "output_type": "stream",
     "text": [
      "<class 'pandas.core.frame.DataFrame'>\n",
      "Int64Index: 6717 entries, 0 to 8125\n",
      "Data columns (total 13 columns):\n",
      " #   Column         Non-Null Count  Dtype \n",
      "---  ------         --------------  ----- \n",
      " 0   name           6717 non-null   object\n",
      " 1   year           6717 non-null   int64 \n",
      " 2   selling_price  6717 non-null   int64 \n",
      " 3   km_driven      6717 non-null   int64 \n",
      " 4   fuel           6717 non-null   object\n",
      " 5   seller_type    6717 non-null   object\n",
      " 6   transmission   6717 non-null   object\n",
      " 7   owner          6717 non-null   object\n",
      " 8   mileage        6717 non-null   object\n",
      " 9   engine         6717 non-null   object\n",
      " 10  max_power      6717 non-null   object\n",
      " 11  torque         6717 non-null   object\n",
      " 12  seats          6717 non-null   int32 \n",
      "dtypes: int32(1), int64(3), object(9)\n",
      "memory usage: 708.4+ KB\n"
     ]
    }
   ],
   "source": [
    "df.info()"
   ]
  },
  {
   "cell_type": "code",
   "execution_count": 18,
   "metadata": {
    "execution": {
     "iopub.execute_input": "2021-06-08T12:05:53.323655Z",
     "iopub.status.busy": "2021-06-08T12:05:53.322973Z",
     "iopub.status.idle": "2021-06-08T12:05:53.349259Z",
     "shell.execute_reply": "2021-06-08T12:05:53.348505Z",
     "shell.execute_reply.started": "2021-06-08T12:05:53.323609Z"
    }
   },
   "outputs": [],
   "source": [
    "# Handling mileage col\n",
    "df['mileage'] = df['mileage'].str.split(expand=True)[0]\n",
    "df['mileage'] = df['mileage'].astype('float64')"
   ]
  },
  {
   "cell_type": "code",
   "execution_count": 19,
   "metadata": {
    "execution": {
     "iopub.execute_input": "2021-06-08T12:05:53.351078Z",
     "iopub.status.busy": "2021-06-08T12:05:53.350667Z",
     "iopub.status.idle": "2021-06-08T12:05:53.373996Z",
     "shell.execute_reply": "2021-06-08T12:05:53.373139Z",
     "shell.execute_reply.started": "2021-06-08T12:05:53.351035Z"
    }
   },
   "outputs": [],
   "source": [
    "# Handling engine col\n",
    "df['engine'] = df['engine'].str.split(expand=True)[0]\n",
    "df['engine'] = df['engine'].astype('int32')"
   ]
  },
  {
   "cell_type": "code",
   "execution_count": 20,
   "metadata": {
    "execution": {
     "iopub.execute_input": "2021-06-08T12:05:53.375459Z",
     "iopub.status.busy": "2021-06-08T12:05:53.375140Z",
     "iopub.status.idle": "2021-06-08T12:05:53.404607Z",
     "shell.execute_reply": "2021-06-08T12:05:53.403605Z",
     "shell.execute_reply.started": "2021-06-08T12:05:53.375430Z"
    }
   },
   "outputs": [],
   "source": [
    "# Handling max_power col\n",
    "df['max_power'] = df['max_power'].str.split(expand=True)[0]\n",
    "df['max_power'] = df['max_power'].astype('float64')"
   ]
  },
  {
   "cell_type": "code",
   "execution_count": 21,
   "metadata": {
    "execution": {
     "iopub.execute_input": "2021-06-08T12:05:53.406102Z",
     "iopub.status.busy": "2021-06-08T12:05:53.405786Z",
     "iopub.status.idle": "2021-06-08T12:05:53.430094Z",
     "shell.execute_reply": "2021-06-08T12:05:53.429338Z",
     "shell.execute_reply.started": "2021-06-08T12:05:53.406072Z"
    }
   },
   "outputs": [
    {
     "data": {
      "text/html": [
       "<div>\n",
       "<style scoped>\n",
       "    .dataframe tbody tr th:only-of-type {\n",
       "        vertical-align: middle;\n",
       "    }\n",
       "\n",
       "    .dataframe tbody tr th {\n",
       "        vertical-align: top;\n",
       "    }\n",
       "\n",
       "    .dataframe thead th {\n",
       "        text-align: right;\n",
       "    }\n",
       "</style>\n",
       "<table border=\"1\" class=\"dataframe\">\n",
       "  <thead>\n",
       "    <tr style=\"text-align: right;\">\n",
       "      <th></th>\n",
       "      <th>name</th>\n",
       "      <th>year</th>\n",
       "      <th>selling_price</th>\n",
       "      <th>km_driven</th>\n",
       "      <th>fuel</th>\n",
       "      <th>seller_type</th>\n",
       "      <th>transmission</th>\n",
       "      <th>owner</th>\n",
       "      <th>mileage</th>\n",
       "      <th>engine</th>\n",
       "      <th>max_power</th>\n",
       "      <th>torque</th>\n",
       "      <th>seats</th>\n",
       "    </tr>\n",
       "  </thead>\n",
       "  <tbody>\n",
       "    <tr>\n",
       "      <th>0</th>\n",
       "      <td>Maruti Swift Dzire VDI</td>\n",
       "      <td>2014</td>\n",
       "      <td>450000</td>\n",
       "      <td>145500</td>\n",
       "      <td>Diesel</td>\n",
       "      <td>Individual</td>\n",
       "      <td>Manual</td>\n",
       "      <td>First Owner</td>\n",
       "      <td>23.40</td>\n",
       "      <td>1248</td>\n",
       "      <td>74.00</td>\n",
       "      <td>190Nm@ 2000rpm</td>\n",
       "      <td>5</td>\n",
       "    </tr>\n",
       "    <tr>\n",
       "      <th>1</th>\n",
       "      <td>Skoda Rapid 1.5 TDI Ambition</td>\n",
       "      <td>2014</td>\n",
       "      <td>370000</td>\n",
       "      <td>120000</td>\n",
       "      <td>Diesel</td>\n",
       "      <td>Individual</td>\n",
       "      <td>Manual</td>\n",
       "      <td>Second Owner</td>\n",
       "      <td>21.14</td>\n",
       "      <td>1498</td>\n",
       "      <td>103.52</td>\n",
       "      <td>250Nm@ 1500-2500rpm</td>\n",
       "      <td>5</td>\n",
       "    </tr>\n",
       "    <tr>\n",
       "      <th>2</th>\n",
       "      <td>Honda City 2017-2020 EXi</td>\n",
       "      <td>2006</td>\n",
       "      <td>158000</td>\n",
       "      <td>140000</td>\n",
       "      <td>Petrol</td>\n",
       "      <td>Individual</td>\n",
       "      <td>Manual</td>\n",
       "      <td>Third Owner</td>\n",
       "      <td>17.70</td>\n",
       "      <td>1497</td>\n",
       "      <td>78.00</td>\n",
       "      <td>12.7@ 2,700(kgm@ rpm)</td>\n",
       "      <td>5</td>\n",
       "    </tr>\n",
       "    <tr>\n",
       "      <th>3</th>\n",
       "      <td>Hyundai i20 Sportz Diesel</td>\n",
       "      <td>2010</td>\n",
       "      <td>225000</td>\n",
       "      <td>127000</td>\n",
       "      <td>Diesel</td>\n",
       "      <td>Individual</td>\n",
       "      <td>Manual</td>\n",
       "      <td>First Owner</td>\n",
       "      <td>23.00</td>\n",
       "      <td>1396</td>\n",
       "      <td>90.00</td>\n",
       "      <td>22.4 kgm at 1750-2750rpm</td>\n",
       "      <td>5</td>\n",
       "    </tr>\n",
       "    <tr>\n",
       "      <th>4</th>\n",
       "      <td>Maruti Swift VXI BSIII</td>\n",
       "      <td>2007</td>\n",
       "      <td>130000</td>\n",
       "      <td>120000</td>\n",
       "      <td>Petrol</td>\n",
       "      <td>Individual</td>\n",
       "      <td>Manual</td>\n",
       "      <td>First Owner</td>\n",
       "      <td>16.10</td>\n",
       "      <td>1298</td>\n",
       "      <td>88.20</td>\n",
       "      <td>11.5@ 4,500(kgm@ rpm)</td>\n",
       "      <td>5</td>\n",
       "    </tr>\n",
       "  </tbody>\n",
       "</table>\n",
       "</div>"
      ],
      "text/plain": [
       "                           name  year  selling_price  km_driven    fuel  \\\n",
       "0        Maruti Swift Dzire VDI  2014         450000     145500  Diesel   \n",
       "1  Skoda Rapid 1.5 TDI Ambition  2014         370000     120000  Diesel   \n",
       "2      Honda City 2017-2020 EXi  2006         158000     140000  Petrol   \n",
       "3     Hyundai i20 Sportz Diesel  2010         225000     127000  Diesel   \n",
       "4        Maruti Swift VXI BSIII  2007         130000     120000  Petrol   \n",
       "\n",
       "  seller_type transmission         owner  mileage  engine  max_power  \\\n",
       "0  Individual       Manual   First Owner    23.40    1248      74.00   \n",
       "1  Individual       Manual  Second Owner    21.14    1498     103.52   \n",
       "2  Individual       Manual   Third Owner    17.70    1497      78.00   \n",
       "3  Individual       Manual   First Owner    23.00    1396      90.00   \n",
       "4  Individual       Manual   First Owner    16.10    1298      88.20   \n",
       "\n",
       "                     torque  seats  \n",
       "0            190Nm@ 2000rpm      5  \n",
       "1       250Nm@ 1500-2500rpm      5  \n",
       "2     12.7@ 2,700(kgm@ rpm)      5  \n",
       "3  22.4 kgm at 1750-2750rpm      5  \n",
       "4     11.5@ 4,500(kgm@ rpm)      5  "
      ]
     },
     "execution_count": 21,
     "metadata": {},
     "output_type": "execute_result"
    }
   ],
   "source": [
    "df.head()"
   ]
  },
  {
   "cell_type": "code",
   "execution_count": 22,
   "metadata": {
    "execution": {
     "iopub.execute_input": "2021-06-08T12:05:53.431552Z",
     "iopub.status.busy": "2021-06-08T12:05:53.431102Z",
     "iopub.status.idle": "2021-06-08T12:05:53.445706Z",
     "shell.execute_reply": "2021-06-08T12:05:53.444830Z",
     "shell.execute_reply.started": "2021-06-08T12:05:53.431520Z"
    }
   },
   "outputs": [],
   "source": [
    "# dropping the torque col\n",
    "df.drop(columns=['torque'],inplace=True)"
   ]
  },
  {
   "cell_type": "code",
   "execution_count": 23,
   "metadata": {
    "execution": {
     "iopub.execute_input": "2021-06-08T12:05:53.448274Z",
     "iopub.status.busy": "2021-06-08T12:05:53.447538Z",
     "iopub.status.idle": "2021-06-08T12:05:53.472776Z",
     "shell.execute_reply": "2021-06-08T12:05:53.471655Z",
     "shell.execute_reply.started": "2021-06-08T12:05:53.448229Z"
    }
   },
   "outputs": [
    {
     "data": {
      "text/html": [
       "<div>\n",
       "<style scoped>\n",
       "    .dataframe tbody tr th:only-of-type {\n",
       "        vertical-align: middle;\n",
       "    }\n",
       "\n",
       "    .dataframe tbody tr th {\n",
       "        vertical-align: top;\n",
       "    }\n",
       "\n",
       "    .dataframe thead th {\n",
       "        text-align: right;\n",
       "    }\n",
       "</style>\n",
       "<table border=\"1\" class=\"dataframe\">\n",
       "  <thead>\n",
       "    <tr style=\"text-align: right;\">\n",
       "      <th></th>\n",
       "      <th>name</th>\n",
       "      <th>year</th>\n",
       "      <th>selling_price</th>\n",
       "      <th>km_driven</th>\n",
       "      <th>fuel</th>\n",
       "      <th>seller_type</th>\n",
       "      <th>transmission</th>\n",
       "      <th>owner</th>\n",
       "      <th>mileage</th>\n",
       "      <th>engine</th>\n",
       "      <th>max_power</th>\n",
       "      <th>seats</th>\n",
       "    </tr>\n",
       "  </thead>\n",
       "  <tbody>\n",
       "    <tr>\n",
       "      <th>0</th>\n",
       "      <td>Maruti Swift Dzire VDI</td>\n",
       "      <td>2014</td>\n",
       "      <td>450000</td>\n",
       "      <td>145500</td>\n",
       "      <td>Diesel</td>\n",
       "      <td>Individual</td>\n",
       "      <td>Manual</td>\n",
       "      <td>First Owner</td>\n",
       "      <td>23.40</td>\n",
       "      <td>1248</td>\n",
       "      <td>74.00</td>\n",
       "      <td>5</td>\n",
       "    </tr>\n",
       "    <tr>\n",
       "      <th>1</th>\n",
       "      <td>Skoda Rapid 1.5 TDI Ambition</td>\n",
       "      <td>2014</td>\n",
       "      <td>370000</td>\n",
       "      <td>120000</td>\n",
       "      <td>Diesel</td>\n",
       "      <td>Individual</td>\n",
       "      <td>Manual</td>\n",
       "      <td>Second Owner</td>\n",
       "      <td>21.14</td>\n",
       "      <td>1498</td>\n",
       "      <td>103.52</td>\n",
       "      <td>5</td>\n",
       "    </tr>\n",
       "    <tr>\n",
       "      <th>2</th>\n",
       "      <td>Honda City 2017-2020 EXi</td>\n",
       "      <td>2006</td>\n",
       "      <td>158000</td>\n",
       "      <td>140000</td>\n",
       "      <td>Petrol</td>\n",
       "      <td>Individual</td>\n",
       "      <td>Manual</td>\n",
       "      <td>Third Owner</td>\n",
       "      <td>17.70</td>\n",
       "      <td>1497</td>\n",
       "      <td>78.00</td>\n",
       "      <td>5</td>\n",
       "    </tr>\n",
       "    <tr>\n",
       "      <th>3</th>\n",
       "      <td>Hyundai i20 Sportz Diesel</td>\n",
       "      <td>2010</td>\n",
       "      <td>225000</td>\n",
       "      <td>127000</td>\n",
       "      <td>Diesel</td>\n",
       "      <td>Individual</td>\n",
       "      <td>Manual</td>\n",
       "      <td>First Owner</td>\n",
       "      <td>23.00</td>\n",
       "      <td>1396</td>\n",
       "      <td>90.00</td>\n",
       "      <td>5</td>\n",
       "    </tr>\n",
       "    <tr>\n",
       "      <th>4</th>\n",
       "      <td>Maruti Swift VXI BSIII</td>\n",
       "      <td>2007</td>\n",
       "      <td>130000</td>\n",
       "      <td>120000</td>\n",
       "      <td>Petrol</td>\n",
       "      <td>Individual</td>\n",
       "      <td>Manual</td>\n",
       "      <td>First Owner</td>\n",
       "      <td>16.10</td>\n",
       "      <td>1298</td>\n",
       "      <td>88.20</td>\n",
       "      <td>5</td>\n",
       "    </tr>\n",
       "  </tbody>\n",
       "</table>\n",
       "</div>"
      ],
      "text/plain": [
       "                           name  year  selling_price  km_driven    fuel  \\\n",
       "0        Maruti Swift Dzire VDI  2014         450000     145500  Diesel   \n",
       "1  Skoda Rapid 1.5 TDI Ambition  2014         370000     120000  Diesel   \n",
       "2      Honda City 2017-2020 EXi  2006         158000     140000  Petrol   \n",
       "3     Hyundai i20 Sportz Diesel  2010         225000     127000  Diesel   \n",
       "4        Maruti Swift VXI BSIII  2007         130000     120000  Petrol   \n",
       "\n",
       "  seller_type transmission         owner  mileage  engine  max_power  seats  \n",
       "0  Individual       Manual   First Owner    23.40    1248      74.00      5  \n",
       "1  Individual       Manual  Second Owner    21.14    1498     103.52      5  \n",
       "2  Individual       Manual   Third Owner    17.70    1497      78.00      5  \n",
       "3  Individual       Manual   First Owner    23.00    1396      90.00      5  \n",
       "4  Individual       Manual   First Owner    16.10    1298      88.20      5  "
      ]
     },
     "execution_count": 23,
     "metadata": {},
     "output_type": "execute_result"
    }
   ],
   "source": [
    "df.head()"
   ]
  },
  {
   "cell_type": "code",
   "execution_count": 24,
   "metadata": {
    "execution": {
     "iopub.execute_input": "2021-06-08T12:05:53.474812Z",
     "iopub.status.busy": "2021-06-08T12:05:53.474372Z",
     "iopub.status.idle": "2021-06-08T12:05:53.482771Z",
     "shell.execute_reply": "2021-06-08T12:05:53.481561Z",
     "shell.execute_reply.started": "2021-06-08T12:05:53.474766Z"
    }
   },
   "outputs": [
    {
     "data": {
      "text/plain": [
       "(1982,)"
      ]
     },
     "execution_count": 24,
     "metadata": {},
     "output_type": "execute_result"
    }
   ],
   "source": [
    "df['name'].unique().shape"
   ]
  },
  {
   "cell_type": "code",
   "execution_count": 25,
   "metadata": {
    "execution": {
     "iopub.execute_input": "2021-06-08T12:05:53.484784Z",
     "iopub.status.busy": "2021-06-08T12:05:53.484111Z",
     "iopub.status.idle": "2021-06-08T12:05:53.517232Z",
     "shell.execute_reply": "2021-06-08T12:05:53.516364Z",
     "shell.execute_reply.started": "2021-06-08T12:05:53.484749Z"
    }
   },
   "outputs": [],
   "source": [
    "# extracting brand from name\n",
    "df['brand'] = df['name'].str.split(expand=True)[0]"
   ]
  },
  {
   "cell_type": "code",
   "execution_count": 26,
   "metadata": {
    "execution": {
     "iopub.execute_input": "2021-06-08T12:05:53.519007Z",
     "iopub.status.busy": "2021-06-08T12:05:53.518614Z",
     "iopub.status.idle": "2021-06-08T12:05:53.542570Z",
     "shell.execute_reply": "2021-06-08T12:05:53.541272Z",
     "shell.execute_reply.started": "2021-06-08T12:05:53.518968Z"
    }
   },
   "outputs": [
    {
     "data": {
      "text/html": [
       "<div>\n",
       "<style scoped>\n",
       "    .dataframe tbody tr th:only-of-type {\n",
       "        vertical-align: middle;\n",
       "    }\n",
       "\n",
       "    .dataframe tbody tr th {\n",
       "        vertical-align: top;\n",
       "    }\n",
       "\n",
       "    .dataframe thead th {\n",
       "        text-align: right;\n",
       "    }\n",
       "</style>\n",
       "<table border=\"1\" class=\"dataframe\">\n",
       "  <thead>\n",
       "    <tr style=\"text-align: right;\">\n",
       "      <th></th>\n",
       "      <th>year</th>\n",
       "      <th>selling_price</th>\n",
       "      <th>km_driven</th>\n",
       "      <th>fuel</th>\n",
       "      <th>seller_type</th>\n",
       "      <th>transmission</th>\n",
       "      <th>owner</th>\n",
       "      <th>mileage</th>\n",
       "      <th>engine</th>\n",
       "      <th>max_power</th>\n",
       "      <th>seats</th>\n",
       "      <th>brand</th>\n",
       "    </tr>\n",
       "  </thead>\n",
       "  <tbody>\n",
       "    <tr>\n",
       "      <th>0</th>\n",
       "      <td>2014</td>\n",
       "      <td>450000</td>\n",
       "      <td>145500</td>\n",
       "      <td>Diesel</td>\n",
       "      <td>Individual</td>\n",
       "      <td>Manual</td>\n",
       "      <td>First Owner</td>\n",
       "      <td>23.40</td>\n",
       "      <td>1248</td>\n",
       "      <td>74.00</td>\n",
       "      <td>5</td>\n",
       "      <td>Maruti</td>\n",
       "    </tr>\n",
       "    <tr>\n",
       "      <th>1</th>\n",
       "      <td>2014</td>\n",
       "      <td>370000</td>\n",
       "      <td>120000</td>\n",
       "      <td>Diesel</td>\n",
       "      <td>Individual</td>\n",
       "      <td>Manual</td>\n",
       "      <td>Second Owner</td>\n",
       "      <td>21.14</td>\n",
       "      <td>1498</td>\n",
       "      <td>103.52</td>\n",
       "      <td>5</td>\n",
       "      <td>Skoda</td>\n",
       "    </tr>\n",
       "    <tr>\n",
       "      <th>2</th>\n",
       "      <td>2006</td>\n",
       "      <td>158000</td>\n",
       "      <td>140000</td>\n",
       "      <td>Petrol</td>\n",
       "      <td>Individual</td>\n",
       "      <td>Manual</td>\n",
       "      <td>Third Owner</td>\n",
       "      <td>17.70</td>\n",
       "      <td>1497</td>\n",
       "      <td>78.00</td>\n",
       "      <td>5</td>\n",
       "      <td>Honda</td>\n",
       "    </tr>\n",
       "    <tr>\n",
       "      <th>3</th>\n",
       "      <td>2010</td>\n",
       "      <td>225000</td>\n",
       "      <td>127000</td>\n",
       "      <td>Diesel</td>\n",
       "      <td>Individual</td>\n",
       "      <td>Manual</td>\n",
       "      <td>First Owner</td>\n",
       "      <td>23.00</td>\n",
       "      <td>1396</td>\n",
       "      <td>90.00</td>\n",
       "      <td>5</td>\n",
       "      <td>Hyundai</td>\n",
       "    </tr>\n",
       "    <tr>\n",
       "      <th>4</th>\n",
       "      <td>2007</td>\n",
       "      <td>130000</td>\n",
       "      <td>120000</td>\n",
       "      <td>Petrol</td>\n",
       "      <td>Individual</td>\n",
       "      <td>Manual</td>\n",
       "      <td>First Owner</td>\n",
       "      <td>16.10</td>\n",
       "      <td>1298</td>\n",
       "      <td>88.20</td>\n",
       "      <td>5</td>\n",
       "      <td>Maruti</td>\n",
       "    </tr>\n",
       "  </tbody>\n",
       "</table>\n",
       "</div>"
      ],
      "text/plain": [
       "   year  selling_price  km_driven    fuel seller_type transmission  \\\n",
       "0  2014         450000     145500  Diesel  Individual       Manual   \n",
       "1  2014         370000     120000  Diesel  Individual       Manual   \n",
       "2  2006         158000     140000  Petrol  Individual       Manual   \n",
       "3  2010         225000     127000  Diesel  Individual       Manual   \n",
       "4  2007         130000     120000  Petrol  Individual       Manual   \n",
       "\n",
       "          owner  mileage  engine  max_power  seats    brand  \n",
       "0   First Owner    23.40    1248      74.00      5   Maruti  \n",
       "1  Second Owner    21.14    1498     103.52      5    Skoda  \n",
       "2   Third Owner    17.70    1497      78.00      5    Honda  \n",
       "3   First Owner    23.00    1396      90.00      5  Hyundai  \n",
       "4   First Owner    16.10    1298      88.20      5   Maruti  "
      ]
     },
     "execution_count": 26,
     "metadata": {},
     "output_type": "execute_result"
    }
   ],
   "source": [
    "df.drop(columns=['name'],inplace=True)\n",
    "df.head()"
   ]
  },
  {
   "cell_type": "code",
   "execution_count": 27,
   "metadata": {
    "execution": {
     "iopub.execute_input": "2021-06-08T12:05:53.544419Z",
     "iopub.status.busy": "2021-06-08T12:05:53.543994Z",
     "iopub.status.idle": "2021-06-08T12:05:53.557847Z",
     "shell.execute_reply": "2021-06-08T12:05:53.556697Z",
     "shell.execute_reply.started": "2021-06-08T12:05:53.544384Z"
    }
   },
   "outputs": [],
   "source": [
    "freq_brands = df['brand'].value_counts()[df['brand'].value_counts()>100].index.tolist()"
   ]
  },
  {
   "cell_type": "code",
   "execution_count": 28,
   "metadata": {
    "execution": {
     "iopub.execute_input": "2021-06-08T12:05:53.559532Z",
     "iopub.status.busy": "2021-06-08T12:05:53.559183Z",
     "iopub.status.idle": "2021-06-08T12:05:53.566643Z",
     "shell.execute_reply": "2021-06-08T12:05:53.565486Z",
     "shell.execute_reply.started": "2021-06-08T12:05:53.559500Z"
    }
   },
   "outputs": [],
   "source": [
    "df = df[df['brand'].isin(freq_brands)]"
   ]
  },
  {
   "cell_type": "code",
   "execution_count": 29,
   "metadata": {
    "execution": {
     "iopub.execute_input": "2021-06-08T12:05:53.568470Z",
     "iopub.status.busy": "2021-06-08T12:05:53.568138Z",
     "iopub.status.idle": "2021-06-08T12:05:53.590262Z",
     "shell.execute_reply": "2021-06-08T12:05:53.589153Z",
     "shell.execute_reply.started": "2021-06-08T12:05:53.568440Z"
    }
   },
   "outputs": [
    {
     "data": {
      "text/html": [
       "<div>\n",
       "<style scoped>\n",
       "    .dataframe tbody tr th:only-of-type {\n",
       "        vertical-align: middle;\n",
       "    }\n",
       "\n",
       "    .dataframe tbody tr th {\n",
       "        vertical-align: top;\n",
       "    }\n",
       "\n",
       "    .dataframe thead th {\n",
       "        text-align: right;\n",
       "    }\n",
       "</style>\n",
       "<table border=\"1\" class=\"dataframe\">\n",
       "  <thead>\n",
       "    <tr style=\"text-align: right;\">\n",
       "      <th></th>\n",
       "      <th>year</th>\n",
       "      <th>selling_price</th>\n",
       "      <th>km_driven</th>\n",
       "      <th>fuel</th>\n",
       "      <th>seller_type</th>\n",
       "      <th>transmission</th>\n",
       "      <th>owner</th>\n",
       "      <th>mileage</th>\n",
       "      <th>engine</th>\n",
       "      <th>max_power</th>\n",
       "      <th>seats</th>\n",
       "      <th>brand</th>\n",
       "    </tr>\n",
       "  </thead>\n",
       "  <tbody>\n",
       "    <tr>\n",
       "      <th>0</th>\n",
       "      <td>2014</td>\n",
       "      <td>450000</td>\n",
       "      <td>145500</td>\n",
       "      <td>Diesel</td>\n",
       "      <td>Individual</td>\n",
       "      <td>Manual</td>\n",
       "      <td>First Owner</td>\n",
       "      <td>23.40</td>\n",
       "      <td>1248</td>\n",
       "      <td>74.00</td>\n",
       "      <td>5</td>\n",
       "      <td>Maruti</td>\n",
       "    </tr>\n",
       "    <tr>\n",
       "      <th>2</th>\n",
       "      <td>2006</td>\n",
       "      <td>158000</td>\n",
       "      <td>140000</td>\n",
       "      <td>Petrol</td>\n",
       "      <td>Individual</td>\n",
       "      <td>Manual</td>\n",
       "      <td>Third Owner</td>\n",
       "      <td>17.70</td>\n",
       "      <td>1497</td>\n",
       "      <td>78.00</td>\n",
       "      <td>5</td>\n",
       "      <td>Honda</td>\n",
       "    </tr>\n",
       "    <tr>\n",
       "      <th>3</th>\n",
       "      <td>2010</td>\n",
       "      <td>225000</td>\n",
       "      <td>127000</td>\n",
       "      <td>Diesel</td>\n",
       "      <td>Individual</td>\n",
       "      <td>Manual</td>\n",
       "      <td>First Owner</td>\n",
       "      <td>23.00</td>\n",
       "      <td>1396</td>\n",
       "      <td>90.00</td>\n",
       "      <td>5</td>\n",
       "      <td>Hyundai</td>\n",
       "    </tr>\n",
       "    <tr>\n",
       "      <th>4</th>\n",
       "      <td>2007</td>\n",
       "      <td>130000</td>\n",
       "      <td>120000</td>\n",
       "      <td>Petrol</td>\n",
       "      <td>Individual</td>\n",
       "      <td>Manual</td>\n",
       "      <td>First Owner</td>\n",
       "      <td>16.10</td>\n",
       "      <td>1298</td>\n",
       "      <td>88.20</td>\n",
       "      <td>5</td>\n",
       "      <td>Maruti</td>\n",
       "    </tr>\n",
       "    <tr>\n",
       "      <th>5</th>\n",
       "      <td>2017</td>\n",
       "      <td>440000</td>\n",
       "      <td>45000</td>\n",
       "      <td>Petrol</td>\n",
       "      <td>Individual</td>\n",
       "      <td>Manual</td>\n",
       "      <td>First Owner</td>\n",
       "      <td>20.14</td>\n",
       "      <td>1197</td>\n",
       "      <td>81.86</td>\n",
       "      <td>5</td>\n",
       "      <td>Hyundai</td>\n",
       "    </tr>\n",
       "  </tbody>\n",
       "</table>\n",
       "</div>"
      ],
      "text/plain": [
       "   year  selling_price  km_driven    fuel seller_type transmission  \\\n",
       "0  2014         450000     145500  Diesel  Individual       Manual   \n",
       "2  2006         158000     140000  Petrol  Individual       Manual   \n",
       "3  2010         225000     127000  Diesel  Individual       Manual   \n",
       "4  2007         130000     120000  Petrol  Individual       Manual   \n",
       "5  2017         440000      45000  Petrol  Individual       Manual   \n",
       "\n",
       "         owner  mileage  engine  max_power  seats    brand  \n",
       "0  First Owner    23.40    1248      74.00      5   Maruti  \n",
       "2  Third Owner    17.70    1497      78.00      5    Honda  \n",
       "3  First Owner    23.00    1396      90.00      5  Hyundai  \n",
       "4  First Owner    16.10    1298      88.20      5   Maruti  \n",
       "5  First Owner    20.14    1197      81.86      5  Hyundai  "
      ]
     },
     "execution_count": 29,
     "metadata": {},
     "output_type": "execute_result"
    }
   ],
   "source": [
    "df.head()"
   ]
  },
  {
   "cell_type": "code",
   "execution_count": 30,
   "metadata": {
    "execution": {
     "iopub.execute_input": "2021-06-08T12:05:53.593919Z",
     "iopub.status.busy": "2021-06-08T12:05:53.593567Z",
     "iopub.status.idle": "2021-06-08T12:05:53.602039Z",
     "shell.execute_reply": "2021-06-08T12:05:53.601145Z",
     "shell.execute_reply.started": "2021-06-08T12:05:53.593887Z"
    }
   },
   "outputs": [],
   "source": [
    "freq_fuel = ['Diesel','Petrol']\n",
    "df = df[df['fuel'].isin(freq_fuel)]"
   ]
  },
  {
   "cell_type": "code",
   "execution_count": 31,
   "metadata": {
    "execution": {
     "iopub.execute_input": "2021-06-08T12:05:53.603732Z",
     "iopub.status.busy": "2021-06-08T12:05:53.603421Z",
     "iopub.status.idle": "2021-06-08T12:05:53.617193Z",
     "shell.execute_reply": "2021-06-08T12:05:53.616155Z",
     "shell.execute_reply.started": "2021-06-08T12:05:53.603702Z"
    }
   },
   "outputs": [
    {
     "data": {
      "text/plain": [
       "Individual          5607\n",
       "Dealer               560\n",
       "Trustmark Dealer      25\n",
       "Name: seller_type, dtype: int64"
      ]
     },
     "execution_count": 31,
     "metadata": {},
     "output_type": "execute_result"
    }
   ],
   "source": [
    "df['seller_type'].value_counts()"
   ]
  },
  {
   "cell_type": "code",
   "execution_count": 32,
   "metadata": {
    "execution": {
     "iopub.execute_input": "2021-06-08T12:05:53.619350Z",
     "iopub.status.busy": "2021-06-08T12:05:53.618777Z",
     "iopub.status.idle": "2021-06-08T12:05:53.629141Z",
     "shell.execute_reply": "2021-06-08T12:05:53.628294Z",
     "shell.execute_reply.started": "2021-06-08T12:05:53.619313Z"
    }
   },
   "outputs": [],
   "source": [
    "df = df[df['seller_type'].isin(['Individual','Dealer'])]"
   ]
  },
  {
   "cell_type": "code",
   "execution_count": 33,
   "metadata": {
    "execution": {
     "iopub.execute_input": "2021-06-08T12:05:53.630587Z",
     "iopub.status.busy": "2021-06-08T12:05:53.630304Z",
     "iopub.status.idle": "2021-06-08T12:05:53.640372Z",
     "shell.execute_reply": "2021-06-08T12:05:53.639596Z",
     "shell.execute_reply.started": "2021-06-08T12:05:53.630560Z"
    }
   },
   "outputs": [],
   "source": [
    "df = df[df['owner'].isin(['First Owner','Second Owner','Third Owner'])]"
   ]
  },
  {
   "cell_type": "code",
   "execution_count": 34,
   "metadata": {
    "execution": {
     "iopub.execute_input": "2021-06-08T12:05:53.641629Z",
     "iopub.status.busy": "2021-06-08T12:05:53.641365Z",
     "iopub.status.idle": "2021-06-08T12:05:53.651068Z",
     "shell.execute_reply": "2021-06-08T12:05:53.650243Z",
     "shell.execute_reply.started": "2021-06-08T12:05:53.641603Z"
    }
   },
   "outputs": [
    {
     "data": {
      "text/plain": [
       "(6015, 12)"
      ]
     },
     "execution_count": 34,
     "metadata": {},
     "output_type": "execute_result"
    }
   ],
   "source": [
    "df.shape"
   ]
  },
  {
   "cell_type": "code",
   "execution_count": 35,
   "metadata": {
    "execution": {
     "iopub.execute_input": "2021-06-08T12:05:53.654807Z",
     "iopub.status.busy": "2021-06-08T12:05:53.654558Z",
     "iopub.status.idle": "2021-06-08T12:05:54.623244Z",
     "shell.execute_reply": "2021-06-08T12:05:54.621981Z",
     "shell.execute_reply.started": "2021-06-08T12:05:53.654783Z"
    }
   },
   "outputs": [
    {
     "name": "stderr",
     "output_type": "stream",
     "text": [
      "C:\\Users\\Vineeth Reddy\\anaconda3\\lib\\site-packages\\seaborn\\_decorators.py:36: FutureWarning: Pass the following variable as a keyword arg: x. From version 0.12, the only valid positional argument will be `data`, and passing other arguments without an explicit keyword will result in an error or misinterpretation.\n",
      "  warnings.warn(\n"
     ]
    },
    {
     "data": {
      "text/plain": [
       "<AxesSubplot:xlabel='km_driven'>"
      ]
     },
     "execution_count": 35,
     "metadata": {},
     "output_type": "execute_result"
    },
    {
     "data": {
      "image/png": "[encoded data removed]",
      "text/plain": [
       "<Figure size 432x288 with 1 Axes>"
      ]
     },
     "metadata": {
      "needs_background": "light"
     },
     "output_type": "display_data"
    }
   ],
   "source": [
    "import seaborn as sns\n",
    "sns.boxplot(df['km_driven'])"
   ]
  },
  {
   "cell_type": "code",
   "execution_count": 36,
   "metadata": {
    "execution": {
     "iopub.execute_input": "2021-06-08T12:05:54.625958Z",
     "iopub.status.busy": "2021-06-08T12:05:54.625529Z",
     "iopub.status.idle": "2021-06-08T12:05:54.636129Z",
     "shell.execute_reply": "2021-06-08T12:05:54.635316Z",
     "shell.execute_reply.started": "2021-06-08T12:05:54.625912Z"
    }
   },
   "outputs": [],
   "source": [
    "q1 = df['km_driven'].quantile(0.25)\n",
    "q3 = df['km_driven'].quantile(0.75)\n",
    "iqr = q3 - q1"
   ]
  },
  {
   "cell_type": "code",
   "execution_count": 37,
   "metadata": {
    "execution": {
     "iopub.execute_input": "2021-06-08T12:05:54.638387Z",
     "iopub.status.busy": "2021-06-08T12:05:54.637706Z",
     "iopub.status.idle": "2021-06-08T12:05:54.645708Z",
     "shell.execute_reply": "2021-06-08T12:05:54.644863Z",
     "shell.execute_reply.started": "2021-06-08T12:05:54.638335Z"
    }
   },
   "outputs": [],
   "source": [
    "max_val_km_driven = q3 + 1.5*iqr"
   ]
  },
  {
   "cell_type": "code",
   "execution_count": 38,
   "metadata": {
    "execution": {
     "iopub.execute_input": "2021-06-08T12:05:54.648072Z",
     "iopub.status.busy": "2021-06-08T12:05:54.647366Z",
     "iopub.status.idle": "2021-06-08T12:05:54.658974Z",
     "shell.execute_reply": "2021-06-08T12:05:54.658027Z",
     "shell.execute_reply.started": "2021-06-08T12:05:54.648022Z"
    }
   },
   "outputs": [
    {
     "data": {
      "text/plain": [
       "193000.0"
      ]
     },
     "execution_count": 38,
     "metadata": {},
     "output_type": "execute_result"
    }
   ],
   "source": [
    "max_val_km_driven"
   ]
  },
  {
   "cell_type": "code",
   "execution_count": 39,
   "metadata": {
    "execution": {
     "iopub.execute_input": "2021-06-08T12:05:54.661032Z",
     "iopub.status.busy": "2021-06-08T12:05:54.660444Z",
     "iopub.status.idle": "2021-06-08T12:05:54.682017Z",
     "shell.execute_reply": "2021-06-08T12:05:54.680912Z",
     "shell.execute_reply.started": "2021-06-08T12:05:54.660997Z"
    }
   },
   "outputs": [
    {
     "data": {
      "text/html": [
       "<div>\n",
       "<style scoped>\n",
       "    .dataframe tbody tr th:only-of-type {\n",
       "        vertical-align: middle;\n",
       "    }\n",
       "\n",
       "    .dataframe tbody tr th {\n",
       "        vertical-align: top;\n",
       "    }\n",
       "\n",
       "    .dataframe thead th {\n",
       "        text-align: right;\n",
       "    }\n",
       "</style>\n",
       "<table border=\"1\" class=\"dataframe\">\n",
       "  <thead>\n",
       "    <tr style=\"text-align: right;\">\n",
       "      <th></th>\n",
       "      <th>year</th>\n",
       "      <th>selling_price</th>\n",
       "      <th>km_driven</th>\n",
       "      <th>fuel</th>\n",
       "      <th>seller_type</th>\n",
       "      <th>transmission</th>\n",
       "      <th>owner</th>\n",
       "      <th>mileage</th>\n",
       "      <th>engine</th>\n",
       "      <th>max_power</th>\n",
       "      <th>seats</th>\n",
       "      <th>brand</th>\n",
       "    </tr>\n",
       "  </thead>\n",
       "  <tbody>\n",
       "    <tr>\n",
       "      <th>0</th>\n",
       "      <td>2014</td>\n",
       "      <td>450000</td>\n",
       "      <td>145500</td>\n",
       "      <td>Diesel</td>\n",
       "      <td>Individual</td>\n",
       "      <td>Manual</td>\n",
       "      <td>First Owner</td>\n",
       "      <td>23.40</td>\n",
       "      <td>1248</td>\n",
       "      <td>74.00</td>\n",
       "      <td>5</td>\n",
       "      <td>Maruti</td>\n",
       "    </tr>\n",
       "    <tr>\n",
       "      <th>2</th>\n",
       "      <td>2006</td>\n",
       "      <td>158000</td>\n",
       "      <td>140000</td>\n",
       "      <td>Petrol</td>\n",
       "      <td>Individual</td>\n",
       "      <td>Manual</td>\n",
       "      <td>Third Owner</td>\n",
       "      <td>17.70</td>\n",
       "      <td>1497</td>\n",
       "      <td>78.00</td>\n",
       "      <td>5</td>\n",
       "      <td>Honda</td>\n",
       "    </tr>\n",
       "    <tr>\n",
       "      <th>3</th>\n",
       "      <td>2010</td>\n",
       "      <td>225000</td>\n",
       "      <td>127000</td>\n",
       "      <td>Diesel</td>\n",
       "      <td>Individual</td>\n",
       "      <td>Manual</td>\n",
       "      <td>First Owner</td>\n",
       "      <td>23.00</td>\n",
       "      <td>1396</td>\n",
       "      <td>90.00</td>\n",
       "      <td>5</td>\n",
       "      <td>Hyundai</td>\n",
       "    </tr>\n",
       "    <tr>\n",
       "      <th>4</th>\n",
       "      <td>2007</td>\n",
       "      <td>130000</td>\n",
       "      <td>120000</td>\n",
       "      <td>Petrol</td>\n",
       "      <td>Individual</td>\n",
       "      <td>Manual</td>\n",
       "      <td>First Owner</td>\n",
       "      <td>16.10</td>\n",
       "      <td>1298</td>\n",
       "      <td>88.20</td>\n",
       "      <td>5</td>\n",
       "      <td>Maruti</td>\n",
       "    </tr>\n",
       "    <tr>\n",
       "      <th>5</th>\n",
       "      <td>2017</td>\n",
       "      <td>440000</td>\n",
       "      <td>45000</td>\n",
       "      <td>Petrol</td>\n",
       "      <td>Individual</td>\n",
       "      <td>Manual</td>\n",
       "      <td>First Owner</td>\n",
       "      <td>20.14</td>\n",
       "      <td>1197</td>\n",
       "      <td>81.86</td>\n",
       "      <td>5</td>\n",
       "      <td>Hyundai</td>\n",
       "    </tr>\n",
       "  </tbody>\n",
       "</table>\n",
       "</div>"
      ],
      "text/plain": [
       "   year  selling_price  km_driven    fuel seller_type transmission  \\\n",
       "0  2014         450000     145500  Diesel  Individual       Manual   \n",
       "2  2006         158000     140000  Petrol  Individual       Manual   \n",
       "3  2010         225000     127000  Diesel  Individual       Manual   \n",
       "4  2007         130000     120000  Petrol  Individual       Manual   \n",
       "5  2017         440000      45000  Petrol  Individual       Manual   \n",
       "\n",
       "         owner  mileage  engine  max_power  seats    brand  \n",
       "0  First Owner    23.40    1248      74.00      5   Maruti  \n",
       "2  Third Owner    17.70    1497      78.00      5    Honda  \n",
       "3  First Owner    23.00    1396      90.00      5  Hyundai  \n",
       "4  First Owner    16.10    1298      88.20      5   Maruti  \n",
       "5  First Owner    20.14    1197      81.86      5  Hyundai  "
      ]
     },
     "execution_count": 39,
     "metadata": {},
     "output_type": "execute_result"
    }
   ],
   "source": [
    "df.head()"
   ]
  },
  {
   "cell_type": "code",
   "execution_count": 40,
   "metadata": {
    "execution": {
     "iopub.execute_input": "2021-06-08T12:05:54.683809Z",
     "iopub.status.busy": "2021-06-08T12:05:54.683419Z",
     "iopub.status.idle": "2021-06-08T12:05:54.693889Z",
     "shell.execute_reply": "2021-06-08T12:05:54.693184Z",
     "shell.execute_reply.started": "2021-06-08T12:05:54.683776Z"
    }
   },
   "outputs": [],
   "source": [
    "df['km_driven'] = np.where(df['km_driven']>max_val_km_driven,max_val_km_driven,df['km_driven'])"
   ]
  },
  {
   "cell_type": "code",
   "execution_count": 41,
   "metadata": {
    "execution": {
     "iopub.execute_input": "2021-06-08T12:05:54.695354Z",
     "iopub.status.busy": "2021-06-08T12:05:54.694922Z",
     "iopub.status.idle": "2021-06-08T12:05:54.819228Z",
     "shell.execute_reply": "2021-06-08T12:05:54.818553Z",
     "shell.execute_reply.started": "2021-06-08T12:05:54.695324Z"
    }
   },
   "outputs": [
    {
     "name": "stderr",
     "output_type": "stream",
     "text": [
      "C:\\Users\\Vineeth Reddy\\anaconda3\\lib\\site-packages\\seaborn\\_decorators.py:36: FutureWarning: Pass the following variable as a keyword arg: x. From version 0.12, the only valid positional argument will be `data`, and passing other arguments without an explicit keyword will result in an error or misinterpretation.\n",
      "  warnings.warn(\n"
     ]
    },
    {
     "data": {
      "text/plain": [
       "<AxesSubplot:xlabel='year'>"
      ]
     },
     "execution_count": 41,
     "metadata": {},
     "output_type": "execute_result"
    },
    {
     "data": {
      "image/png": "[encoded data removed]",
      "text/plain": [
       "<Figure size 432x288 with 1 Axes>"
      ]
     },
     "metadata": {
      "needs_background": "light"
     },
     "output_type": "display_data"
    }
   ],
   "source": [
    "sns.boxplot(df['year'])"
   ]
  },
  {
   "cell_type": "code",
   "execution_count": 42,
   "metadata": {
    "execution": {
     "iopub.execute_input": "2021-06-08T12:05:54.820730Z",
     "iopub.status.busy": "2021-06-08T12:05:54.820290Z",
     "iopub.status.idle": "2021-06-08T12:05:54.825954Z",
     "shell.execute_reply": "2021-06-08T12:05:54.825283Z",
     "shell.execute_reply.started": "2021-06-08T12:05:54.820699Z"
    }
   },
   "outputs": [],
   "source": [
    "df = df[df['year'] >= 2000]"
   ]
  },
  {
   "cell_type": "code",
   "execution_count": 43,
   "metadata": {
    "execution": {
     "iopub.execute_input": "2021-06-08T12:05:54.827421Z",
     "iopub.status.busy": "2021-06-08T12:05:54.827127Z",
     "iopub.status.idle": "2021-06-08T12:05:54.962413Z",
     "shell.execute_reply": "2021-06-08T12:05:54.961513Z",
     "shell.execute_reply.started": "2021-06-08T12:05:54.827393Z"
    }
   },
   "outputs": [
    {
     "name": "stderr",
     "output_type": "stream",
     "text": [
      "C:\\Users\\Vineeth Reddy\\anaconda3\\lib\\site-packages\\seaborn\\_decorators.py:36: FutureWarning: Pass the following variable as a keyword arg: x. From version 0.12, the only valid positional argument will be `data`, and passing other arguments without an explicit keyword will result in an error or misinterpretation.\n",
      "  warnings.warn(\n"
     ]
    },
    {
     "data": {
      "text/plain": [
       "<AxesSubplot:xlabel='mileage'>"
      ]
     },
     "execution_count": 43,
     "metadata": {},
     "output_type": "execute_result"
    },
    {
     "data": {
      "image/png": "[encoded data removed]",
      "text/plain": [
       "<Figure size 432x288 with 1 Axes>"
      ]
     },
     "metadata": {
      "needs_background": "light"
     },
     "output_type": "display_data"
    }
   ],
   "source": [
    "sns.boxplot(df['mileage'])"
   ]
  },
  {
   "cell_type": "code",
   "execution_count": 44,
   "metadata": {
    "execution": {
     "iopub.execute_input": "2021-06-08T12:05:54.964442Z",
     "iopub.status.busy": "2021-06-08T12:05:54.963839Z",
     "iopub.status.idle": "2021-06-08T12:05:54.975236Z",
     "shell.execute_reply": "2021-06-08T12:05:54.974302Z",
     "shell.execute_reply.started": "2021-06-08T12:05:54.964392Z"
    }
   },
   "outputs": [
    {
     "data": {
      "text/plain": [
       "19.7"
      ]
     },
     "execution_count": 44,
     "metadata": {},
     "output_type": "execute_result"
    }
   ],
   "source": [
    "mean_mileage = df[df['mileage'] !=0]['mileage'].median()\n",
    "mean_mileage"
   ]
  },
  {
   "cell_type": "code",
   "execution_count": 45,
   "metadata": {
    "execution": {
     "iopub.execute_input": "2021-06-08T12:05:54.976884Z",
     "iopub.status.busy": "2021-06-08T12:05:54.976407Z",
     "iopub.status.idle": "2021-06-08T12:05:54.990060Z",
     "shell.execute_reply": "2021-06-08T12:05:54.989047Z",
     "shell.execute_reply.started": "2021-06-08T12:05:54.976840Z"
    }
   },
   "outputs": [],
   "source": [
    "df['mileage'] = np.where(df['mileage'] == 0,mean_mileage,df['mileage'])"
   ]
  },
  {
   "cell_type": "code",
   "execution_count": 46,
   "metadata": {
    "execution": {
     "iopub.execute_input": "2021-06-08T12:05:54.991932Z",
     "iopub.status.busy": "2021-06-08T12:05:54.991370Z",
     "iopub.status.idle": "2021-06-08T12:05:55.004699Z",
     "shell.execute_reply": "2021-06-08T12:05:55.003782Z",
     "shell.execute_reply.started": "2021-06-08T12:05:54.991890Z"
    }
   },
   "outputs": [
    {
     "data": {
      "text/plain": [
       "(5988, 12)"
      ]
     },
     "execution_count": 46,
     "metadata": {},
     "output_type": "execute_result"
    }
   ],
   "source": [
    "df.shape"
   ]
  },
  {
   "cell_type": "code",
   "execution_count": 47,
   "metadata": {
    "execution": {
     "iopub.execute_input": "2021-06-08T12:05:55.006372Z",
     "iopub.status.busy": "2021-06-08T12:05:55.005861Z",
     "iopub.status.idle": "2021-06-08T12:05:55.031810Z",
     "shell.execute_reply": "2021-06-08T12:05:55.030794Z",
     "shell.execute_reply.started": "2021-06-08T12:05:55.006341Z"
    }
   },
   "outputs": [
    {
     "data": {
      "text/html": [
       "<div>\n",
       "<style scoped>\n",
       "    .dataframe tbody tr th:only-of-type {\n",
       "        vertical-align: middle;\n",
       "    }\n",
       "\n",
       "    .dataframe tbody tr th {\n",
       "        vertical-align: top;\n",
       "    }\n",
       "\n",
       "    .dataframe thead th {\n",
       "        text-align: right;\n",
       "    }\n",
       "</style>\n",
       "<table border=\"1\" class=\"dataframe\">\n",
       "  <thead>\n",
       "    <tr style=\"text-align: right;\">\n",
       "      <th></th>\n",
       "      <th>year</th>\n",
       "      <th>selling_price</th>\n",
       "      <th>km_driven</th>\n",
       "      <th>fuel</th>\n",
       "      <th>seller_type</th>\n",
       "      <th>transmission</th>\n",
       "      <th>owner</th>\n",
       "      <th>mileage</th>\n",
       "      <th>engine</th>\n",
       "      <th>max_power</th>\n",
       "      <th>seats</th>\n",
       "      <th>brand</th>\n",
       "    </tr>\n",
       "  </thead>\n",
       "  <tbody>\n",
       "    <tr>\n",
       "      <th>0</th>\n",
       "      <td>2014</td>\n",
       "      <td>450000</td>\n",
       "      <td>145500.0</td>\n",
       "      <td>Diesel</td>\n",
       "      <td>Individual</td>\n",
       "      <td>Manual</td>\n",
       "      <td>First Owner</td>\n",
       "      <td>23.40</td>\n",
       "      <td>1248</td>\n",
       "      <td>74.00</td>\n",
       "      <td>5</td>\n",
       "      <td>Maruti</td>\n",
       "    </tr>\n",
       "    <tr>\n",
       "      <th>2</th>\n",
       "      <td>2006</td>\n",
       "      <td>158000</td>\n",
       "      <td>140000.0</td>\n",
       "      <td>Petrol</td>\n",
       "      <td>Individual</td>\n",
       "      <td>Manual</td>\n",
       "      <td>Third Owner</td>\n",
       "      <td>17.70</td>\n",
       "      <td>1497</td>\n",
       "      <td>78.00</td>\n",
       "      <td>5</td>\n",
       "      <td>Honda</td>\n",
       "    </tr>\n",
       "    <tr>\n",
       "      <th>3</th>\n",
       "      <td>2010</td>\n",
       "      <td>225000</td>\n",
       "      <td>127000.0</td>\n",
       "      <td>Diesel</td>\n",
       "      <td>Individual</td>\n",
       "      <td>Manual</td>\n",
       "      <td>First Owner</td>\n",
       "      <td>23.00</td>\n",
       "      <td>1396</td>\n",
       "      <td>90.00</td>\n",
       "      <td>5</td>\n",
       "      <td>Hyundai</td>\n",
       "    </tr>\n",
       "    <tr>\n",
       "      <th>4</th>\n",
       "      <td>2007</td>\n",
       "      <td>130000</td>\n",
       "      <td>120000.0</td>\n",
       "      <td>Petrol</td>\n",
       "      <td>Individual</td>\n",
       "      <td>Manual</td>\n",
       "      <td>First Owner</td>\n",
       "      <td>16.10</td>\n",
       "      <td>1298</td>\n",
       "      <td>88.20</td>\n",
       "      <td>5</td>\n",
       "      <td>Maruti</td>\n",
       "    </tr>\n",
       "    <tr>\n",
       "      <th>5</th>\n",
       "      <td>2017</td>\n",
       "      <td>440000</td>\n",
       "      <td>45000.0</td>\n",
       "      <td>Petrol</td>\n",
       "      <td>Individual</td>\n",
       "      <td>Manual</td>\n",
       "      <td>First Owner</td>\n",
       "      <td>20.14</td>\n",
       "      <td>1197</td>\n",
       "      <td>81.86</td>\n",
       "      <td>5</td>\n",
       "      <td>Hyundai</td>\n",
       "    </tr>\n",
       "  </tbody>\n",
       "</table>\n",
       "</div>"
      ],
      "text/plain": [
       "   year  selling_price  km_driven    fuel seller_type transmission  \\\n",
       "0  2014         450000   145500.0  Diesel  Individual       Manual   \n",
       "2  2006         158000   140000.0  Petrol  Individual       Manual   \n",
       "3  2010         225000   127000.0  Diesel  Individual       Manual   \n",
       "4  2007         130000   120000.0  Petrol  Individual       Manual   \n",
       "5  2017         440000    45000.0  Petrol  Individual       Manual   \n",
       "\n",
       "         owner  mileage  engine  max_power  seats    brand  \n",
       "0  First Owner    23.40    1248      74.00      5   Maruti  \n",
       "2  Third Owner    17.70    1497      78.00      5    Honda  \n",
       "3  First Owner    23.00    1396      90.00      5  Hyundai  \n",
       "4  First Owner    16.10    1298      88.20      5   Maruti  \n",
       "5  First Owner    20.14    1197      81.86      5  Hyundai  "
      ]
     },
     "execution_count": 47,
     "metadata": {},
     "output_type": "execute_result"
    }
   ],
   "source": [
    "df.head()"
   ]
  },
  {
   "cell_type": "code",
   "execution_count": 48,
   "metadata": {
    "execution": {
     "iopub.execute_input": "2021-06-08T12:05:55.033294Z",
     "iopub.status.busy": "2021-06-08T12:05:55.033010Z",
     "iopub.status.idle": "2021-06-08T12:05:55.357179Z",
     "shell.execute_reply": "2021-06-08T12:05:55.356313Z",
     "shell.execute_reply.started": "2021-06-08T12:05:55.033267Z"
    }
   },
   "outputs": [],
   "source": [
    "X = df.drop(columns=['selling_price'])\n",
    "y = df['selling_price']\n",
    "from sklearn.model_selection import train_test_split\n",
    "X_train,X_test,y_train,y_test = train_test_split(X,y,test_size=0.2,random_state=2)"
   ]
  },
  {
   "cell_type": "code",
   "execution_count": 49,
   "metadata": {
    "execution": {
     "iopub.execute_input": "2021-06-08T12:05:55.360963Z",
     "iopub.status.busy": "2021-06-08T12:05:55.360682Z",
     "iopub.status.idle": "2021-06-08T12:05:55.373808Z",
     "shell.execute_reply": "2021-06-08T12:05:55.372859Z",
     "shell.execute_reply.started": "2021-06-08T12:05:55.360936Z"
    }
   },
   "outputs": [],
   "source": [
    "# Ordinal encoding on Owner col\n",
    "from sklearn.preprocessing import OrdinalEncoder,OneHotEncoder\n",
    "from sklearn.compose import ColumnTransformer"
   ]
  },
  {
   "cell_type": "code",
   "execution_count": 50,
   "metadata": {
    "execution": {
     "iopub.execute_input": "2021-06-08T12:05:55.375268Z",
     "iopub.status.busy": "2021-06-08T12:05:55.374826Z",
     "iopub.status.idle": "2021-06-08T12:05:55.379922Z",
     "shell.execute_reply": "2021-06-08T12:05:55.378966Z",
     "shell.execute_reply.started": "2021-06-08T12:05:55.375235Z"
    }
   },
   "outputs": [],
   "source": [
    "tnf = ColumnTransformer(\n",
    "    [\n",
    "        ('ordinal',OrdinalEncoder(),['owner']),\n",
    "        ('nominal',OneHotEncoder(drop='first',sparse=False),['fuel','seller_type','transmission','brand'])\n",
    "    ], remainder='passthrough'\n",
    ")"
   ]
  },
  {
   "cell_type": "code",
   "execution_count": 51,
   "metadata": {
    "execution": {
     "iopub.execute_input": "2021-06-08T12:05:55.381421Z",
     "iopub.status.busy": "2021-06-08T12:05:55.381137Z",
     "iopub.status.idle": "2021-06-08T12:05:55.426218Z",
     "shell.execute_reply": "2021-06-08T12:05:55.425332Z",
     "shell.execute_reply.started": "2021-06-08T12:05:55.381396Z"
    }
   },
   "outputs": [],
   "source": [
    "#X_train_tnf = tnf.fit_transform(X_train)\n",
    "#X_test_tnf = tnf.transform(X_test)"
   ]
  },
  {
   "cell_type": "code",
   "execution_count": 52,
   "metadata": {
    "execution": {
     "iopub.execute_input": "2021-06-08T12:05:55.427836Z",
     "iopub.status.busy": "2021-06-08T12:05:55.427550Z",
     "iopub.status.idle": "2021-06-08T12:05:55.533767Z",
     "shell.execute_reply": "2021-06-08T12:05:55.532819Z",
     "shell.execute_reply.started": "2021-06-08T12:05:55.427809Z"
    }
   },
   "outputs": [],
   "source": [
    "from sklearn.linear_model import LinearRegression"
   ]
  },
  {
   "cell_type": "code",
   "execution_count": 53,
   "metadata": {
    "execution": {
     "iopub.execute_input": "2021-06-08T12:05:55.535364Z",
     "iopub.status.busy": "2021-06-08T12:05:55.534917Z",
     "iopub.status.idle": "2021-06-08T12:05:55.539893Z",
     "shell.execute_reply": "2021-06-08T12:05:55.538553Z",
     "shell.execute_reply.started": "2021-06-08T12:05:55.535331Z"
    }
   },
   "outputs": [],
   "source": [
    "lr = LinearRegression()"
   ]
  },
  {
   "cell_type": "code",
   "execution_count": 54,
   "metadata": {
    "execution": {
     "iopub.execute_input": "2021-06-08T12:05:55.589327Z",
     "iopub.status.busy": "2021-06-08T12:05:55.588513Z",
     "iopub.status.idle": "2021-06-08T12:05:55.603391Z",
     "shell.execute_reply": "2021-06-08T12:05:55.601984Z",
     "shell.execute_reply.started": "2021-06-08T12:05:55.589273Z"
    }
   },
   "outputs": [],
   "source": [
    "from sklearn.metrics import r2_score\n",
    "#r2_score(y_test,y_pred)"
   ]
  },
  {
   "cell_type": "code",
   "execution_count": 55,
   "metadata": {
    "execution": {
     "iopub.execute_input": "2021-06-08T12:05:55.608851Z",
     "iopub.status.busy": "2021-06-08T12:05:55.606937Z",
     "iopub.status.idle": "2021-06-08T12:05:55.617876Z",
     "shell.execute_reply": "2021-06-08T12:05:55.616402Z",
     "shell.execute_reply.started": "2021-06-08T12:05:55.608149Z"
    }
   },
   "outputs": [],
   "source": [
    "from sklearn.preprocessing import PolynomialFeatures\n",
    "poly = PolynomialFeatures(degree=3)"
   ]
  },
  {
   "cell_type": "code",
   "execution_count": 56,
   "metadata": {
    "execution": {
     "iopub.execute_input": "2021-06-08T12:46:07.905456Z",
     "iopub.status.busy": "2021-06-08T12:46:07.905028Z",
     "iopub.status.idle": "2021-06-08T12:46:07.988597Z",
     "shell.execute_reply": "2021-06-08T12:46:07.987222Z",
     "shell.execute_reply.started": "2021-06-08T12:46:07.905423Z"
    }
   },
   "outputs": [],
   "source": [
    "lr = LinearRegression()\n",
    "#lr.fit(X_train_poly,y_train)\n",
    "#y_pred = lr.predict(X_test_poly)\n",
    "#r2_score(y_test,y_pred)"
   ]
  },
  {
   "cell_type": "code",
   "execution_count": 57,
   "metadata": {
    "execution": {
     "iopub.execute_input": "2021-06-08T12:50:26.128268Z",
     "iopub.status.busy": "2021-06-08T12:50:26.127838Z",
     "iopub.status.idle": "2021-06-08T12:50:26.132617Z",
     "shell.execute_reply": "2021-06-08T12:50:26.131565Z",
     "shell.execute_reply.started": "2021-06-08T12:50:26.128233Z"
    }
   },
   "outputs": [],
   "source": [
    "# pipeline\n",
    "\n"
   ]
  },
  {
   "cell_type": "code",
   "execution_count": 58,
   "metadata": {
    "execution": {
     "iopub.execute_input": "2021-06-08T12:53:22.831394Z",
     "iopub.status.busy": "2021-06-08T12:53:22.830991Z",
     "iopub.status.idle": "2021-06-08T12:53:22.836120Z",
     "shell.execute_reply": "2021-06-08T12:53:22.835077Z",
     "shell.execute_reply.started": "2021-06-08T12:53:22.831358Z"
    }
   },
   "outputs": [
    {
     "data": {
      "text/plain": [
       "0.8604824880216668"
      ]
     },
     "execution_count": 58,
     "metadata": {},
     "output_type": "execute_result"
    }
   ],
   "source": [
    "from sklearn.pipeline import Pipeline\n",
    "pipe = Pipeline(\n",
    "    [\n",
    "        ('col-transformer',tnf),\n",
    "        ('poly',poly),\n",
    "        ('lr',lr)\n",
    "    ]\n",
    ")\n",
    "\n",
    "pipe.fit(X_train,y_train)\n",
    "y_pred = pipe.predict(X_test)\n",
    "r2_score(y_test,y_pred)"
   ]
  },
  {
   "cell_type": "code",
   "execution_count": 59,
   "metadata": {
    "execution": {
     "iopub.execute_input": "2021-06-08T13:20:08.353372Z",
     "iopub.status.busy": "2021-06-08T13:20:08.352983Z",
     "iopub.status.idle": "2021-06-08T13:20:08.357838Z",
     "shell.execute_reply": "2021-06-08T13:20:08.357111Z",
     "shell.execute_reply.started": "2021-06-08T13:20:08.353336Z"
    }
   },
   "outputs": [],
   "source": [
    "import pickle\n",
    "pickle.dump(pipe,open('pipe.pkl','wb'))"
   ]
  },
  {
   "cell_type": "code",
   "execution_count": 60,
   "metadata": {
    "execution": {
     "iopub.execute_input": "2021-06-08T13:11:23.157931Z",
     "iopub.status.busy": "2021-06-08T13:11:23.157546Z",
     "iopub.status.idle": "2021-06-08T13:11:23.168215Z",
     "shell.execute_reply": "2021-06-08T13:11:23.167273Z",
     "shell.execute_reply.started": "2021-06-08T13:11:23.157897Z"
    }
   },
   "outputs": [
    {
     "data": {
      "text/plain": [
       "Maruti        1537\n",
       "Hyundai        920\n",
       "Mahindra       563\n",
       "Tata           500\n",
       "Ford           284\n",
       "Honda          278\n",
       "Toyota         235\n",
       "Renault        167\n",
       "Chevrolet      167\n",
       "Volkswagen     139\n",
       "Name: brand, dtype: int64"
      ]
     },
     "execution_count": 60,
     "metadata": {},
     "output_type": "execute_result"
    }
   ],
   "source": [
    "X_train['brand'].value_counts()"
   ]
  },
  {
   "cell_type": "code",
   "execution_count": 61,
   "metadata": {
    "execution": {
     "iopub.execute_input": "2021-06-08T13:24:47.435730Z",
     "iopub.status.busy": "2021-06-08T13:24:47.435367Z",
     "iopub.status.idle": "2021-06-08T13:24:47.444900Z",
     "shell.execute_reply": "2021-06-08T13:24:47.443496Z",
     "shell.execute_reply.started": "2021-06-08T13:24:47.435700Z"
    }
   },
   "outputs": [
    {
     "data": {
      "text/plain": [
       "4996    200000\n",
       "2063    351000\n",
       "5788    200000\n",
       "593     300000\n",
       "5191    300000\n",
       "         ...  \n",
       "1417    395000\n",
       "3212    950000\n",
       "4808    750000\n",
       "7680    550000\n",
       "3290    370000\n",
       "Name: selling_price, Length: 4790, dtype: int64"
      ]
     },
     "execution_count": 61,
     "metadata": {},
     "output_type": "execute_result"
    }
   ],
   "source": [
    "y_train"
   ]
  },
  {
   "cell_type": "code",
   "execution_count": 62,
   "metadata": {
    "execution": {
     "iopub.execute_input": "2021-06-08T13:17:12.531718Z",
     "iopub.status.busy": "2021-06-08T13:17:12.531348Z",
     "iopub.status.idle": "2021-06-08T13:17:12.561567Z",
     "shell.execute_reply": "2021-06-08T13:17:12.560372Z",
     "shell.execute_reply.started": "2021-06-08T13:17:12.531683Z"
    }
   },
   "outputs": [
    {
     "data": {
      "text/html": [
       "<div>\n",
       "<style scoped>\n",
       "    .dataframe tbody tr th:only-of-type {\n",
       "        vertical-align: middle;\n",
       "    }\n",
       "\n",
       "    .dataframe tbody tr th {\n",
       "        vertical-align: top;\n",
       "    }\n",
       "\n",
       "    .dataframe thead th {\n",
       "        text-align: right;\n",
       "    }\n",
       "</style>\n",
       "<table border=\"1\" class=\"dataframe\">\n",
       "  <thead>\n",
       "    <tr style=\"text-align: right;\">\n",
       "      <th></th>\n",
       "      <th>year</th>\n",
       "      <th>km_driven</th>\n",
       "      <th>fuel</th>\n",
       "      <th>seller_type</th>\n",
       "      <th>transmission</th>\n",
       "      <th>owner</th>\n",
       "      <th>mileage</th>\n",
       "      <th>engine</th>\n",
       "      <th>max_power</th>\n",
       "      <th>seats</th>\n",
       "      <th>brand</th>\n",
       "    </tr>\n",
       "  </thead>\n",
       "  <tbody>\n",
       "    <tr>\n",
       "      <th>4996</th>\n",
       "      <td>2010</td>\n",
       "      <td>120000.0</td>\n",
       "      <td>Petrol</td>\n",
       "      <td>Individual</td>\n",
       "      <td>Manual</td>\n",
       "      <td>First Owner</td>\n",
       "      <td>15.70</td>\n",
       "      <td>1390</td>\n",
       "      <td>75.00</td>\n",
       "      <td>5</td>\n",
       "      <td>Mahindra</td>\n",
       "    </tr>\n",
       "    <tr>\n",
       "      <th>2063</th>\n",
       "      <td>2016</td>\n",
       "      <td>60000.0</td>\n",
       "      <td>Petrol</td>\n",
       "      <td>Individual</td>\n",
       "      <td>Manual</td>\n",
       "      <td>First Owner</td>\n",
       "      <td>23.10</td>\n",
       "      <td>998</td>\n",
       "      <td>67.04</td>\n",
       "      <td>5</td>\n",
       "      <td>Maruti</td>\n",
       "    </tr>\n",
       "    <tr>\n",
       "      <th>5788</th>\n",
       "      <td>2011</td>\n",
       "      <td>91000.0</td>\n",
       "      <td>Petrol</td>\n",
       "      <td>Individual</td>\n",
       "      <td>Manual</td>\n",
       "      <td>Second Owner</td>\n",
       "      <td>20.36</td>\n",
       "      <td>1197</td>\n",
       "      <td>78.90</td>\n",
       "      <td>5</td>\n",
       "      <td>Hyundai</td>\n",
       "    </tr>\n",
       "    <tr>\n",
       "      <th>593</th>\n",
       "      <td>2016</td>\n",
       "      <td>66693.0</td>\n",
       "      <td>Petrol</td>\n",
       "      <td>Dealer</td>\n",
       "      <td>Manual</td>\n",
       "      <td>First Owner</td>\n",
       "      <td>25.17</td>\n",
       "      <td>799</td>\n",
       "      <td>53.30</td>\n",
       "      <td>5</td>\n",
       "      <td>Renault</td>\n",
       "    </tr>\n",
       "    <tr>\n",
       "      <th>5191</th>\n",
       "      <td>2015</td>\n",
       "      <td>110000.0</td>\n",
       "      <td>Petrol</td>\n",
       "      <td>Individual</td>\n",
       "      <td>Manual</td>\n",
       "      <td>First Owner</td>\n",
       "      <td>20.51</td>\n",
       "      <td>998</td>\n",
       "      <td>67.04</td>\n",
       "      <td>5</td>\n",
       "      <td>Maruti</td>\n",
       "    </tr>\n",
       "    <tr>\n",
       "      <th>...</th>\n",
       "      <td>...</td>\n",
       "      <td>...</td>\n",
       "      <td>...</td>\n",
       "      <td>...</td>\n",
       "      <td>...</td>\n",
       "      <td>...</td>\n",
       "      <td>...</td>\n",
       "      <td>...</td>\n",
       "      <td>...</td>\n",
       "      <td>...</td>\n",
       "      <td>...</td>\n",
       "    </tr>\n",
       "    <tr>\n",
       "      <th>1417</th>\n",
       "      <td>2012</td>\n",
       "      <td>120000.0</td>\n",
       "      <td>Diesel</td>\n",
       "      <td>Individual</td>\n",
       "      <td>Manual</td>\n",
       "      <td>First Owner</td>\n",
       "      <td>22.32</td>\n",
       "      <td>1582</td>\n",
       "      <td>126.32</td>\n",
       "      <td>5</td>\n",
       "      <td>Hyundai</td>\n",
       "    </tr>\n",
       "    <tr>\n",
       "      <th>3212</th>\n",
       "      <td>2016</td>\n",
       "      <td>80000.0</td>\n",
       "      <td>Diesel</td>\n",
       "      <td>Individual</td>\n",
       "      <td>Manual</td>\n",
       "      <td>First Owner</td>\n",
       "      <td>12.99</td>\n",
       "      <td>2494</td>\n",
       "      <td>100.60</td>\n",
       "      <td>7</td>\n",
       "      <td>Toyota</td>\n",
       "    </tr>\n",
       "    <tr>\n",
       "      <th>4808</th>\n",
       "      <td>2018</td>\n",
       "      <td>30000.0</td>\n",
       "      <td>Diesel</td>\n",
       "      <td>Individual</td>\n",
       "      <td>Manual</td>\n",
       "      <td>First Owner</td>\n",
       "      <td>22.54</td>\n",
       "      <td>1396</td>\n",
       "      <td>88.76</td>\n",
       "      <td>5</td>\n",
       "      <td>Hyundai</td>\n",
       "    </tr>\n",
       "    <tr>\n",
       "      <th>7680</th>\n",
       "      <td>2013</td>\n",
       "      <td>120000.0</td>\n",
       "      <td>Diesel</td>\n",
       "      <td>Individual</td>\n",
       "      <td>Manual</td>\n",
       "      <td>Third Owner</td>\n",
       "      <td>20.77</td>\n",
       "      <td>1248</td>\n",
       "      <td>88.76</td>\n",
       "      <td>7</td>\n",
       "      <td>Maruti</td>\n",
       "    </tr>\n",
       "    <tr>\n",
       "      <th>3290</th>\n",
       "      <td>2014</td>\n",
       "      <td>60000.0</td>\n",
       "      <td>Petrol</td>\n",
       "      <td>Individual</td>\n",
       "      <td>Manual</td>\n",
       "      <td>First Owner</td>\n",
       "      <td>18.90</td>\n",
       "      <td>1197</td>\n",
       "      <td>82.00</td>\n",
       "      <td>5</td>\n",
       "      <td>Hyundai</td>\n",
       "    </tr>\n",
       "  </tbody>\n",
       "</table>\n",
       "<p>4790 rows × 11 columns</p>\n",
       "</div>"
      ],
      "text/plain": [
       "      year  km_driven    fuel seller_type transmission         owner  mileage  \\\n",
       "4996  2010   120000.0  Petrol  Individual       Manual   First Owner    15.70   \n",
       "2063  2016    60000.0  Petrol  Individual       Manual   First Owner    23.10   \n",
       "5788  2011    91000.0  Petrol  Individual       Manual  Second Owner    20.36   \n",
       "593   2016    66693.0  Petrol      Dealer       Manual   First Owner    25.17   \n",
       "5191  2015   110000.0  Petrol  Individual       Manual   First Owner    20.51   \n",
       "...    ...        ...     ...         ...          ...           ...      ...   \n",
       "1417  2012   120000.0  Diesel  Individual       Manual   First Owner    22.32   \n",
       "3212  2016    80000.0  Diesel  Individual       Manual   First Owner    12.99   \n",
       "4808  2018    30000.0  Diesel  Individual       Manual   First Owner    22.54   \n",
       "7680  2013   120000.0  Diesel  Individual       Manual   Third Owner    20.77   \n",
       "3290  2014    60000.0  Petrol  Individual       Manual   First Owner    18.90   \n",
       "\n",
       "      engine  max_power  seats     brand  \n",
       "4996    1390      75.00      5  Mahindra  \n",
       "2063     998      67.04      5    Maruti  \n",
       "5788    1197      78.90      5   Hyundai  \n",
       "593      799      53.30      5   Renault  \n",
       "5191     998      67.04      5    Maruti  \n",
       "...      ...        ...    ...       ...  \n",
       "1417    1582     126.32      5   Hyundai  \n",
       "3212    2494     100.60      7    Toyota  \n",
       "4808    1396      88.76      5   Hyundai  \n",
       "7680    1248      88.76      7    Maruti  \n",
       "3290    1197      82.00      5   Hyundai  \n",
       "\n",
       "[4790 rows x 11 columns]"
      ]
     },
     "execution_count": 62,
     "metadata": {},
     "output_type": "execute_result"
    }
   ],
   "source": [
    "X_train"
   ]
  },
  {
   "cell_type": "code",
   "execution_count": null,
   "metadata": {},
   "outputs": [],
   "source": []
  }
 ],
 "metadata": {
  "kernelspec": {
   "display_name": "Python 3 (ipykernel)",
   "language": "python",
   "name": "python3"
  },
  "language_info": {
   "codemirror_mode": {
    "name": "ipython",
    "version": 3
   },
   "file_extension": ".py",
   "mimetype": "text/x-python",
   "name": "python",
   "nbconvert_exporter": "python",
   "pygments_lexer": "ipython3",
   "version": "3.9.7"
  }
 },
 "nbformat": 4,
 "nbformat_minor": 4
}
